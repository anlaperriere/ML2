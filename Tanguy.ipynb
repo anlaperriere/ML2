{
 "cells": [
  {
   "cell_type": "markdown",
   "id": "b30e112e-15af-4828-929c-4cd78b6326d9",
   "metadata": {},
   "source": [
    "Mon Notebook pour faire des tests"
   ]
  },
  {
   "cell_type": "code",
   "execution_count": null,
   "id": "7fbe7f2d-2e56-4471-aef5-cbc9604ca183",
   "metadata": {},
   "outputs": [],
   "source": []
  }
 ],
 "metadata": {
  "kernelspec": {
   "display_name": "Python 3 (ipykernel)",
   "language": "python",
   "name": "python3"
  },
  "language_info": {
   "codemirror_mode": {
    "name": "ipython",
    "version": 3
   },
   "file_extension": ".py",
   "mimetype": "text/x-python",
   "name": "python",
   "nbconvert_exporter": "python",
   "pygments_lexer": "ipython3",
   "version": "3.10.8"
  }
 },
 "nbformat": 4,
 "nbformat_minor": 5
}
