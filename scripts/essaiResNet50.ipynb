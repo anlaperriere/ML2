{
 "cells": [
  {
   "cell_type": "code",
   "execution_count": 1,
   "id": "4d18f0ac-c2ed-4577-bf05-b5477dc8b0c3",
   "metadata": {},
   "outputs": [
    {
     "name": "stderr",
     "output_type": "stream",
     "text": [
      "C:\\Users\\salom\\anaconda3\\envs\\MLProject2ABS\\lib\\site-packages\\tqdm\\auto.py:22: TqdmWarning: IProgress not found. Please update jupyter and ipywidgets. See https://ipywidgets.readthedocs.io/en/stable/user_install.html\n",
      "  from .autonotebook import tqdm as notebook_tqdm\n"
     ]
    }
   ],
   "source": [
    "import segmentation_models_pytorch as smp\n",
    "import datasets\n",
    "from torch.utils.data import DataLoader\n",
    "from helpers import *"
   ]
  },
  {
   "cell_type": "code",
   "execution_count": 2,
   "id": "9ce54d59-b717-48b2-b52c-0064658a11b8",
   "metadata": {},
   "outputs": [],
   "source": [
    "from segmentation_models_pytorch import utils"
   ]
  },
  {
   "cell_type": "code",
   "execution_count": 3,
   "id": "1a3c5297-f35e-42c1-a859-3a6529f5cc62",
   "metadata": {},
   "outputs": [],
   "source": [
    "model = smp.Unet(\n",
    "    encoder_name=\"resnet50\",\n",
    "    encoder_weights=\"imagenet\",\n",
    "    in_channels=3,\n",
    "    classes=1,\n",
    "    activation=\"sigmoid\"\n",
    ")"
   ]
  },
  {
   "cell_type": "code",
   "execution_count": 4,
   "id": "94eb7e9d-5848-44e6-8d86-7500b61aa518",
   "metadata": {},
   "outputs": [],
   "source": [
    "# define loss function\n",
    "loss = smp.utils.losses.DiceLoss()"
   ]
  },
  {
   "cell_type": "code",
   "execution_count": 5,
   "id": "b47290ce-d5d4-4c83-9a4b-4daba1edc51e",
   "metadata": {},
   "outputs": [],
   "source": [
    "# Set device: `cuda` or `cpu`\n",
    "device = torch.device(\"cuda\" if torch.cuda.is_available() else \"cpu\")"
   ]
  },
  {
   "cell_type": "code",
   "execution_count": 6,
   "id": "dd4d01df-df24-4f26-a249-088a439da0d4",
   "metadata": {},
   "outputs": [
    {
     "data": {
      "text/plain": [
       "device(type='cuda')"
      ]
     },
     "execution_count": 6,
     "metadata": {},
     "output_type": "execute_result"
    }
   ],
   "source": [
    "device"
   ]
  },
  {
   "cell_type": "code",
   "execution_count": 7,
   "id": "122444c9-324d-431e-b769-64bf5e8693b7",
   "metadata": {},
   "outputs": [],
   "source": [
    "metrics = [smp.utils.metrics.Fscore()]"
   ]
  },
  {
   "cell_type": "code",
   "execution_count": 8,
   "id": "e759c34a-d752-40d7-be75-45d1b34ef780",
   "metadata": {},
   "outputs": [],
   "source": [
    "optimizer = torch.optim.Adam([dict(params=model.parameters(), lr=0.001),])"
   ]
  },
  {
   "cell_type": "code",
   "execution_count": 9,
   "id": "3874b2eb-e1d3-4d24-816f-f063a9d789c4",
   "metadata": {},
   "outputs": [],
   "source": [
    "lr_scheduler = torch.optim.lr_scheduler.ReduceLROnPlateau(optimizer, mode='min', factor=0.1, patience=5, min_lr=1e-7)"
   ]
  },
  {
   "cell_type": "code",
   "execution_count": 10,
   "id": "67c2c56a-3e36-4afb-96a7-98d0f401cc80",
   "metadata": {},
   "outputs": [],
   "source": [
    "train_epoch = smp.utils.train.TrainEpoch(\n",
    "    model, \n",
    "    loss=loss, \n",
    "    metrics=metrics, \n",
    "    optimizer=optimizer,\n",
    "    device=device,\n",
    "    verbose=True,\n",
    ")\n",
    "\n",
    "valid_epoch = smp.utils.train.ValidEpoch(\n",
    "    model, \n",
    "    loss=loss, \n",
    "    metrics=metrics, \n",
    "    device=device,\n",
    "    verbose=True,\n",
    ")"
   ]
  },
  {
   "cell_type": "code",
   "execution_count": 11,
   "id": "39f34b66-6be9-4f51-9045-91f88dc61ebf",
   "metadata": {},
   "outputs": [],
   "source": [
    "max_epochs = 3"
   ]
  },
  {
   "cell_type": "code",
   "execution_count": null,
   "id": "5e18e2db-5c87-4368-8179-16db336b196d",
   "metadata": {},
   "outputs": [],
   "source": []
  },
  {
   "cell_type": "code",
   "execution_count": 12,
   "id": "307219ac-d73e-4d59-8669-832748cc28d8",
   "metadata": {},
   "outputs": [
    {
     "data": {
      "text/plain": [
       "<torch._C.Generator at 0x23257a05870>"
      ]
     },
     "execution_count": 12,
     "metadata": {},
     "output_type": "execute_result"
    }
   ],
   "source": [
    "seed = 42\n",
    "random.seed(seed)\n",
    "torch.manual_seed(seed)"
   ]
  },
  {
   "cell_type": "code",
   "execution_count": 13,
   "id": "e33f0271-70c3-4b1c-a5f2-ba81e84201e4",
   "metadata": {},
   "outputs": [],
   "source": [
    "train_dataset = datasets.DatasetTrainVal(path='../data', set_type='train', ratio=0.2, resize=416)\n",
    "test_dataset = datasets.DatasetTest(path='../data')\n",
    "train_loader = DataLoader(dataset=train_dataset, batch_size=2, shuffle=True)\n",
    "test_loader = DataLoader(dataset=test_dataset, batch_size=1, shuffle=False)\n",
    "val_dataset =datasets.DatasetTrainVal(path='../data', set_type='val', ratio=0.2, resize=416)\n",
    "val_loader = DataLoader(dataset=val_dataset, batch_size=2, shuffle=True)"
   ]
  },
  {
   "cell_type": "code",
   "execution_count": 14,
   "id": "1f39b7e2-695c-47a8-9d2b-9d9a08133979",
   "metadata": {},
   "outputs": [],
   "source": [
    "experiment_path = os.path.join('../experiments', 'essaiResNet50')\n",
    "create_folder(experiment_path)"
   ]
  },
  {
   "cell_type": "code",
   "execution_count": 15,
   "id": "4756f022-fec3-4d6a-bb15-5756b799e9d0",
   "metadata": {},
   "outputs": [
    {
     "name": "stdout",
     "output_type": "stream",
     "text": [
      "\n",
      "Epoch: 0\n",
      "train: 100%|████████████████████████████████████| 240/240 [01:00<00:00,  3.99it/s, dice_loss - 0.3714, fscore - 0.6446]\n",
      "valid: 100%|██████████████████████████████████████| 60/60 [00:05<00:00, 11.29it/s, dice_loss - 0.2937, fscore - 0.7087]\n",
      "Model saved!\n",
      "\n",
      "Epoch: 1\n",
      "train: 100%|████████████████████████████████████| 240/240 [00:58<00:00,  4.12it/s, dice_loss - 0.2553, fscore - 0.7461]\n",
      "valid: 100%|███████████████████████████████████████| 60/60 [00:05<00:00, 11.25it/s, dice_loss - 0.256, fscore - 0.7454]\n",
      "Model saved!\n",
      "\n",
      "Epoch: 2\n",
      "train: 100%|████████████████████████████████████| 240/240 [00:58<00:00,  4.13it/s, dice_loss - 0.2376, fscore - 0.7632]\n",
      "valid: 100%|██████████████████████████████████████| 60/60 [00:05<00:00, 11.34it/s, dice_loss - 0.2031, fscore - 0.7976]\n",
      "Model saved!\n"
     ]
    }
   ],
   "source": [
    "best_f1_score = 0.0\n",
    "train_logs_list, val_logs_list = [], []\n",
    "\n",
    "for i in range(0, max_epochs):\n",
    "\n",
    "    # Perform training & validation\n",
    "    print('\\nEpoch: {}'.format(i))\n",
    "    train_logs = train_epoch.run(train_loader)\n",
    "    val_logs = valid_epoch.run(val_loader)\n",
    "    train_logs_list.append(train_logs)\n",
    "    val_logs_list.append(val_logs)\n",
    "    \n",
    "    # Save model if a better val IoU score is obtained\n",
    "    if best_f1_score < val_logs['fscore']:\n",
    "        best_iou_score = val_logs['fscore']\n",
    "        torch.save(model, '../essaiResNet50/best_model.pth')\n",
    "        print('Model saved!')"
   ]
  },
  {
   "cell_type": "code",
   "execution_count": 15,
   "id": "20482cc7-0e47-4168-b52b-399003acf541",
   "metadata": {},
   "outputs": [
    {
     "name": "stdout",
     "output_type": "stream",
     "text": [
      "Loaded UNet ResNet50 model from this run.\n"
     ]
    }
   ],
   "source": [
    "# load best saved model checkpoint from the current run\n",
    "if os.path.exists( '../essaiResNet50/best_model.pth'):\n",
    "    best_model = torch.load( '../essaiResNet50/best_model.pth', map_location=device)\n",
    "    print('Loaded UNet ResNet50 model from this run.')"
   ]
  },
  {
   "cell_type": "code",
   "execution_count": null,
   "id": "081ddbf8-d9ef-4772-86f6-1363cdfd1fdf",
   "metadata": {},
   "outputs": [],
   "source": [
    "results_path = os.path.join(experiment_path, 'results')\n",
    "create_folder(results_path)\n",
    "for i, img in enumerate(test_loader):\n",
    "    img = img.cuda().float()\n",
    "    output = best_model(img)\n",
    "\n",
    "    # Saving the output masks\n",
    "    save_image(output, i + 1, results_path)\n",
    "    save_image_overlap(output, img, i + 1, results_path)\n"
   ]
  },
  {
   "cell_type": "code",
   "execution_count": 17,
   "id": "184fc159-94b9-4909-b8f1-c027d8b194a7",
   "metadata": {},
   "outputs": [
    {
     "name": "stdout",
     "output_type": "stream",
     "text": [
      "../experiments\\essaiResNet50\\results/satImage_001.png\n",
      "../experiments\\essaiResNet50\\results/satImage_002.png\n",
      "../experiments\\essaiResNet50\\results/satImage_003.png\n",
      "../experiments\\essaiResNet50\\results/satImage_004.png\n",
      "../experiments\\essaiResNet50\\results/satImage_005.png\n",
      "../experiments\\essaiResNet50\\results/satImage_006.png\n",
      "../experiments\\essaiResNet50\\results/satImage_007.png\n",
      "../experiments\\essaiResNet50\\results/satImage_008.png\n",
      "../experiments\\essaiResNet50\\results/satImage_009.png\n",
      "../experiments\\essaiResNet50\\results/satImage_010.png\n",
      "../experiments\\essaiResNet50\\results/satImage_011.png\n",
      "../experiments\\essaiResNet50\\results/satImage_012.png\n",
      "../experiments\\essaiResNet50\\results/satImage_013.png\n",
      "../experiments\\essaiResNet50\\results/satImage_014.png\n",
      "../experiments\\essaiResNet50\\results/satImage_015.png\n",
      "../experiments\\essaiResNet50\\results/satImage_016.png\n",
      "../experiments\\essaiResNet50\\results/satImage_017.png\n",
      "../experiments\\essaiResNet50\\results/satImage_018.png\n",
      "../experiments\\essaiResNet50\\results/satImage_019.png\n",
      "../experiments\\essaiResNet50\\results/satImage_020.png\n",
      "../experiments\\essaiResNet50\\results/satImage_021.png\n",
      "../experiments\\essaiResNet50\\results/satImage_022.png\n",
      "../experiments\\essaiResNet50\\results/satImage_023.png\n",
      "../experiments\\essaiResNet50\\results/satImage_024.png\n",
      "../experiments\\essaiResNet50\\results/satImage_025.png\n",
      "../experiments\\essaiResNet50\\results/satImage_026.png\n",
      "../experiments\\essaiResNet50\\results/satImage_027.png\n",
      "../experiments\\essaiResNet50\\results/satImage_028.png\n",
      "../experiments\\essaiResNet50\\results/satImage_029.png\n",
      "../experiments\\essaiResNet50\\results/satImage_030.png\n",
      "../experiments\\essaiResNet50\\results/satImage_031.png\n",
      "../experiments\\essaiResNet50\\results/satImage_032.png\n",
      "../experiments\\essaiResNet50\\results/satImage_033.png\n",
      "../experiments\\essaiResNet50\\results/satImage_034.png\n",
      "../experiments\\essaiResNet50\\results/satImage_035.png\n",
      "../experiments\\essaiResNet50\\results/satImage_036.png\n",
      "../experiments\\essaiResNet50\\results/satImage_037.png\n",
      "../experiments\\essaiResNet50\\results/satImage_038.png\n",
      "../experiments\\essaiResNet50\\results/satImage_039.png\n",
      "../experiments\\essaiResNet50\\results/satImage_040.png\n",
      "../experiments\\essaiResNet50\\results/satImage_041.png\n",
      "../experiments\\essaiResNet50\\results/satImage_042.png\n",
      "../experiments\\essaiResNet50\\results/satImage_043.png\n",
      "../experiments\\essaiResNet50\\results/satImage_044.png\n",
      "../experiments\\essaiResNet50\\results/satImage_045.png\n",
      "../experiments\\essaiResNet50\\results/satImage_046.png\n",
      "../experiments\\essaiResNet50\\results/satImage_047.png\n",
      "../experiments\\essaiResNet50\\results/satImage_048.png\n",
      "../experiments\\essaiResNet50\\results/satImage_049.png\n",
      "../experiments\\essaiResNet50\\results/satImage_050.png\n"
     ]
    }
   ],
   "source": [
    "\n",
    "# Converting the saved masks to a submission file\n",
    "submission_filename = os.path.join(results_path, 'essaiResNet50' + '.csv')\n",
    "image_filenames = []\n",
    "for i in range(1, 51):\n",
    "    image_filename = results_path + '/satImage_' + '%.3d' % i + '.png'\n",
    "    print(image_filename)\n",
    "    image_filenames.append(image_filename)\n",
    "masks_to_submission(submission_filename, *image_filenames)\n"
   ]
  }
 ],
 "metadata": {
  "kernelspec": {
   "display_name": "Python 3 (ipykernel)",
   "language": "python",
   "name": "python3"
  },
  "language_info": {
   "codemirror_mode": {
    "name": "ipython",
    "version": 3
   },
   "file_extension": ".py",
   "mimetype": "text/x-python",
   "name": "python",
   "nbconvert_exporter": "python",
   "pygments_lexer": "ipython3",
   "version": "3.7.9"
  }
 },
 "nbformat": 4,
 "nbformat_minor": 5
}
