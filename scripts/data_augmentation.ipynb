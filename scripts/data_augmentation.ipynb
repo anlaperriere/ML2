{
 "cells": [
  {
   "cell_type": "markdown",
   "id": "f3554dda-2326-4c09-b0c8-d9fc96c6336a",
   "metadata": {},
   "source": [
    "# Data augmentation notebook  \n",
    "This notebook will perform data augmentation on the provided training set.  \n",
    "The goal of data augmentation is to have additional images in order to\n",
    "- correctly train our classifier\n",
    "- have more diverse images  \n",
    "\n",
    "Data augmentation will be performed this way :  \n",
    "Each training image and its corresponding ground truth will be :\n",
    "1. kept as original (ori)\n",
    "2. horizontally flipped (hflip)\n",
    "3. vertically flipped (vflip)\n",
    "4. 45° rotated (rot45)\n",
    "5. 90° rotated (rot90)\n",
    "6. 135° rotated (rot135)\n",
    "7. 180° rotated (rot180)\n",
    "8. blurred using a gaussian filter (blur)\n",
    "9. lightened (light)\n",
    "10. darkened (dark)\n",
    "\n",
    "The final augmented training set will therefore be composed of 1000 satellite images and correspondingly 1000 ground truths."
   ]
  },
  {
   "cell_type": "markdown",
   "id": "b21be4a2-fe8a-4cfa-ae2c-6cbe27d35f96",
   "metadata": {},
   "source": [
    "## Imports"
   ]
  },
  {
   "cell_type": "code",
   "execution_count": 31,
   "id": "66b3e54f-e465-414b-ba36-58fb28956db5",
   "metadata": {},
   "outputs": [],
   "source": [
    "import scipy.ndimage as ndi\n",
    "import cv2\n",
    "import numpy as np\n",
    "from helpers import load_training_data, img_float_to_uint8"
   ]
  },
  {
   "cell_type": "markdown",
   "id": "0319ed08-fecf-442b-8e43-efec3a96e7b1",
   "metadata": {},
   "source": [
    "## Loading provided training images"
   ]
  },
  {
   "cell_type": "code",
   "execution_count": 34,
   "id": "e371d605-fd40-44b5-8527-83f3142d4581",
   "metadata": {},
   "outputs": [
    {
     "name": "stdout",
     "output_type": "stream",
     "text": [
      "Loading 100 images\n"
     ]
    },
    {
     "ename": "PermissionError",
     "evalue": "[Errno 13] Permission denied: '../data/training/images/.ipynb_checkpoints'",
     "output_type": "error",
     "traceback": [
      "\u001b[1;31m---------------------------------------------------------------------------\u001b[0m",
      "\u001b[1;31mPermissionError\u001b[0m                           Traceback (most recent call last)",
      "Cell \u001b[1;32mIn [34], line 3\u001b[0m\n\u001b[0;32m      1\u001b[0m \u001b[38;5;66;03m# Loading training images and corresponding ground truth\u001b[39;00m\n\u001b[0;32m      2\u001b[0m data_dir \u001b[38;5;241m=\u001b[39m \u001b[38;5;124m'\u001b[39m\u001b[38;5;124m../data/training/\u001b[39m\u001b[38;5;124m'\u001b[39m\n\u001b[1;32m----> 3\u001b[0m imgs, gndt \u001b[38;5;241m=\u001b[39m \u001b[43mload_training_data\u001b[49m\u001b[43m(\u001b[49m\u001b[43mdata_dir\u001b[49m\u001b[43m)\u001b[49m\n",
      "File \u001b[1;32m~\\Desktop\\ML\\ml-project-2-magical_mandrills\\scripts\\helpers.py:90\u001b[0m, in \u001b[0;36mload_training_data\u001b[1;34m(folder_dir, n)\u001b[0m\n\u001b[0;32m     88\u001b[0m n \u001b[38;5;241m=\u001b[39m \u001b[38;5;28mmin\u001b[39m(n, \u001b[38;5;28mlen\u001b[39m(files))  \n\u001b[0;32m     89\u001b[0m \u001b[38;5;28mprint\u001b[39m(\u001b[38;5;124m\"\u001b[39m\u001b[38;5;124mLoading \u001b[39m\u001b[38;5;124m\"\u001b[39m \u001b[38;5;241m+\u001b[39m \u001b[38;5;28mstr\u001b[39m(n) \u001b[38;5;241m+\u001b[39m \u001b[38;5;124m\"\u001b[39m\u001b[38;5;124m images\u001b[39m\u001b[38;5;124m\"\u001b[39m)\n\u001b[1;32m---> 90\u001b[0m imgs \u001b[38;5;241m=\u001b[39m [load_image(img_dir \u001b[38;5;241m+\u001b[39m files[i]) \u001b[38;5;28;01mfor\u001b[39;00m i \u001b[38;5;129;01min\u001b[39;00m \u001b[38;5;28mrange\u001b[39m(n)]\n\u001b[0;32m     92\u001b[0m gnd_dir \u001b[38;5;241m=\u001b[39m folder_dir \u001b[38;5;241m+\u001b[39m \u001b[38;5;124m\"\u001b[39m\u001b[38;5;124mgroundtruth/\u001b[39m\u001b[38;5;124m\"\u001b[39m\n\u001b[0;32m     93\u001b[0m \u001b[38;5;28mprint\u001b[39m(\u001b[38;5;124m\"\u001b[39m\u001b[38;5;124mLoading \u001b[39m\u001b[38;5;124m\"\u001b[39m \u001b[38;5;241m+\u001b[39m \u001b[38;5;28mstr\u001b[39m(n) \u001b[38;5;241m+\u001b[39m \u001b[38;5;124m\"\u001b[39m\u001b[38;5;124m images\u001b[39m\u001b[38;5;124m\"\u001b[39m)\n",
      "File \u001b[1;32m~\\Desktop\\ML\\ml-project-2-magical_mandrills\\scripts\\helpers.py:90\u001b[0m, in \u001b[0;36m<listcomp>\u001b[1;34m(.0)\u001b[0m\n\u001b[0;32m     88\u001b[0m n \u001b[38;5;241m=\u001b[39m \u001b[38;5;28mmin\u001b[39m(n, \u001b[38;5;28mlen\u001b[39m(files))  \n\u001b[0;32m     89\u001b[0m \u001b[38;5;28mprint\u001b[39m(\u001b[38;5;124m\"\u001b[39m\u001b[38;5;124mLoading \u001b[39m\u001b[38;5;124m\"\u001b[39m \u001b[38;5;241m+\u001b[39m \u001b[38;5;28mstr\u001b[39m(n) \u001b[38;5;241m+\u001b[39m \u001b[38;5;124m\"\u001b[39m\u001b[38;5;124m images\u001b[39m\u001b[38;5;124m\"\u001b[39m)\n\u001b[1;32m---> 90\u001b[0m imgs \u001b[38;5;241m=\u001b[39m [\u001b[43mload_image\u001b[49m\u001b[43m(\u001b[49m\u001b[43mimg_dir\u001b[49m\u001b[43m \u001b[49m\u001b[38;5;241;43m+\u001b[39;49m\u001b[43m \u001b[49m\u001b[43mfiles\u001b[49m\u001b[43m[\u001b[49m\u001b[43mi\u001b[49m\u001b[43m]\u001b[49m\u001b[43m)\u001b[49m \u001b[38;5;28;01mfor\u001b[39;00m i \u001b[38;5;129;01min\u001b[39;00m \u001b[38;5;28mrange\u001b[39m(n)]\n\u001b[0;32m     92\u001b[0m gnd_dir \u001b[38;5;241m=\u001b[39m folder_dir \u001b[38;5;241m+\u001b[39m \u001b[38;5;124m\"\u001b[39m\u001b[38;5;124mgroundtruth/\u001b[39m\u001b[38;5;124m\"\u001b[39m\n\u001b[0;32m     93\u001b[0m \u001b[38;5;28mprint\u001b[39m(\u001b[38;5;124m\"\u001b[39m\u001b[38;5;124mLoading \u001b[39m\u001b[38;5;124m\"\u001b[39m \u001b[38;5;241m+\u001b[39m \u001b[38;5;28mstr\u001b[39m(n) \u001b[38;5;241m+\u001b[39m \u001b[38;5;124m\"\u001b[39m\u001b[38;5;124m images\u001b[39m\u001b[38;5;124m\"\u001b[39m)\n",
      "File \u001b[1;32m~\\Desktop\\ML\\ml-project-2-magical_mandrills\\scripts\\helpers.py:7\u001b[0m, in \u001b[0;36mload_image\u001b[1;34m(infilename)\u001b[0m\n\u001b[0;32m      6\u001b[0m \u001b[38;5;28;01mdef\u001b[39;00m \u001b[38;5;21mload_image\u001b[39m(infilename):\n\u001b[1;32m----> 7\u001b[0m     data \u001b[38;5;241m=\u001b[39m \u001b[43mmpimg\u001b[49m\u001b[38;5;241;43m.\u001b[39;49m\u001b[43mimread\u001b[49m\u001b[43m(\u001b[49m\u001b[43minfilename\u001b[49m\u001b[43m)\u001b[49m\n\u001b[0;32m      8\u001b[0m     \u001b[38;5;28;01mreturn\u001b[39;00m data\n",
      "File \u001b[1;32m~\\anaconda3\\envs\\mlProject2\\lib\\site-packages\\matplotlib\\image.py:1560\u001b[0m, in \u001b[0;36mimread\u001b[1;34m(fname, format)\u001b[0m\n\u001b[0;32m   1558\u001b[0m                 response \u001b[38;5;241m=\u001b[39m io\u001b[38;5;241m.\u001b[39mBytesIO(response\u001b[38;5;241m.\u001b[39mread())\n\u001b[0;32m   1559\u001b[0m             \u001b[38;5;28;01mreturn\u001b[39;00m imread(response, \u001b[38;5;28mformat\u001b[39m\u001b[38;5;241m=\u001b[39mext)\n\u001b[1;32m-> 1560\u001b[0m \u001b[38;5;28;01mwith\u001b[39;00m \u001b[43mimg_open\u001b[49m\u001b[43m(\u001b[49m\u001b[43mfname\u001b[49m\u001b[43m)\u001b[49m \u001b[38;5;28;01mas\u001b[39;00m image:\n\u001b[0;32m   1561\u001b[0m     \u001b[38;5;28;01mreturn\u001b[39;00m (_pil_png_to_float_array(image)\n\u001b[0;32m   1562\u001b[0m             \u001b[38;5;28;01mif\u001b[39;00m \u001b[38;5;28misinstance\u001b[39m(image, PIL\u001b[38;5;241m.\u001b[39mPngImagePlugin\u001b[38;5;241m.\u001b[39mPngImageFile) \u001b[38;5;28;01melse\u001b[39;00m\n\u001b[0;32m   1563\u001b[0m             pil_to_array(image))\n",
      "File \u001b[1;32m~\\anaconda3\\envs\\mlProject2\\lib\\site-packages\\PIL\\Image.py:3092\u001b[0m, in \u001b[0;36mopen\u001b[1;34m(fp, mode, formats)\u001b[0m\n\u001b[0;32m   3089\u001b[0m     filename \u001b[38;5;241m=\u001b[39m fp\n\u001b[0;32m   3091\u001b[0m \u001b[38;5;28;01mif\u001b[39;00m filename:\n\u001b[1;32m-> 3092\u001b[0m     fp \u001b[38;5;241m=\u001b[39m \u001b[43mbuiltins\u001b[49m\u001b[38;5;241;43m.\u001b[39;49m\u001b[43mopen\u001b[49m\u001b[43m(\u001b[49m\u001b[43mfilename\u001b[49m\u001b[43m,\u001b[49m\u001b[43m \u001b[49m\u001b[38;5;124;43m\"\u001b[39;49m\u001b[38;5;124;43mrb\u001b[39;49m\u001b[38;5;124;43m\"\u001b[39;49m\u001b[43m)\u001b[49m\n\u001b[0;32m   3093\u001b[0m     exclusive_fp \u001b[38;5;241m=\u001b[39m \u001b[38;5;28;01mTrue\u001b[39;00m\n\u001b[0;32m   3095\u001b[0m \u001b[38;5;28;01mtry\u001b[39;00m:\n",
      "\u001b[1;31mPermissionError\u001b[0m: [Errno 13] Permission denied: '../data/training/images/.ipynb_checkpoints'"
     ]
    }
   ],
   "source": [
    "# Loading training images and corresponding ground truth\n",
    "data_dir = '../data/training/'\n",
    "imgs, gndt = load_training_data(data_dir)"
   ]
  },
  {
   "cell_type": "code",
   "execution_count": 3,
   "id": "5e90f3df-ec2c-41f4-b838-dc22e5aee80f",
   "metadata": {},
   "outputs": [
    {
     "name": "stdout",
     "output_type": "stream",
     "text": [
      "Value range of images: [0.0, 1.0] and ground truths: [0.0, 0.929411768913269]\n"
     ]
    }
   ],
   "source": [
    "print(\"Value range of images: [{}, {}] and ground truths: [{}, {}]\".format(np.min(imgs), np.max(imgs), np.min(gndt), np.max(gndt)))"
   ]
  },
  {
   "cell_type": "code",
   "execution_count": 4,
   "id": "66e411af-57e0-4c5e-8727-17dd6c91a4f8",
   "metadata": {},
   "outputs": [],
   "source": [
    "# Scale images dimensions to [0;255] and convert to 8-bit\n",
    "n = len(imgs)\n",
    "imgs8 = [img_float_to_uint8(imgs[i]) for i in range(n)]\n",
    "gndt8 = [img_float_to_uint8(gndt[i]) for i in range(n)]"
   ]
  },
  {
   "cell_type": "code",
   "execution_count": 5,
   "id": "cedfb9a1-c2e3-42fc-bc21-ba4487690dc7",
   "metadata": {},
   "outputs": [
    {
     "name": "stdout",
     "output_type": "stream",
     "text": [
      "Value range of scaled images: [0, 255] and ground truths: [0, 255]\n"
     ]
    }
   ],
   "source": [
    "print(\"Value range of scaled images: [{}, {}] and ground truths: [{}, {}]\".format(np.min(imgs8), np.max(imgs8), np.min(gndt8), np.max(gndt8)))"
   ]
  },
  {
   "cell_type": "code",
   "execution_count": 6,
   "id": "478259c5-d16f-4940-88e7-bd350a107fd9",
   "metadata": {},
   "outputs": [],
   "source": [
    "save_dir = \"../data/training_augmented/\"\n",
    "dir_imgs = save_dir + \"images/\"\n",
    "dir_gt = save_dir + \"groundtruth/\""
   ]
  },
  {
   "cell_type": "markdown",
   "id": "abfea0ac-ca32-4324-9ca4-5e560f4146fb",
   "metadata": {},
   "source": [
    "### 1. Save original images"
   ]
  },
  {
   "cell_type": "code",
   "execution_count": 13,
   "id": "11905689-583b-451d-991b-2ff1e71655a8",
   "metadata": {},
   "outputs": [],
   "source": [
    "for i in range(n):\n",
    "    cv2.imwrite(dir_imgs + 'ori_' + str(i+1).zfill(3) + '.png', imgs8[i])\n",
    "    cv2.imwrite(dir_gt + 'ori_' + str(i+1).zfill(3) + '.png', gndt8[i])"
   ]
  },
  {
   "cell_type": "markdown",
   "id": "54af2381-8cf3-4d8d-b5d7-11c6ac9f1ae5",
   "metadata": {},
   "source": [
    "### 2. Horizontally flipped images"
   ]
  },
  {
   "cell_type": "code",
   "execution_count": 24,
   "id": "928301ae-4f5d-4c66-bc63-45b36bbda7f0",
   "metadata": {},
   "outputs": [],
   "source": [
    "for i in range(n):\n",
    "    hflip_img = np.flip(imgs8[i], 1)\n",
    "    hflip_gt = np.flip(gndt8[i], 1)\n",
    "    cv2.imwrite(dir_imgs + 'hflip_' + str(i+1).zfill(3) + '.png', hflip_img)\n",
    "    cv2.imwrite(dir_gt + 'hflip_' + str(i+1).zfill(3) + '.png', hflip_gt)"
   ]
  },
  {
   "cell_type": "markdown",
   "id": "37f2b6ae-2a4e-46b9-91b0-27ad0fc73226",
   "metadata": {},
   "source": [
    "### 3. Vertically flipped images"
   ]
  },
  {
   "cell_type": "code",
   "execution_count": 25,
   "id": "bb06ef29-6037-499e-b76c-75c63e0a547a",
   "metadata": {},
   "outputs": [],
   "source": [
    "for i in range(n):\n",
    "    vflip_img = np.flip(imgs8[i], 0)\n",
    "    vflip_gt = np.flip(gndt8[i], 0)\n",
    "    cv2.imwrite(dir_imgs + 'vflip_' + str(i+1).zfill(3) + '.png', vflip_img)\n",
    "    cv2.imwrite(dir_gt + 'vflip_' + str(i+1).zfill(3) + '.png', vflip_gt)"
   ]
  },
  {
   "cell_type": "markdown",
   "id": "e8bc9215-94ca-427f-a4c4-19e92786e2b0",
   "metadata": {},
   "source": [
    "### 4, 5, 6, 7. Rotated images"
   ]
  },
  {
   "cell_type": "code",
   "execution_count": 19,
   "id": "5510c439-69a5-416d-a75e-403c1ff18b99",
   "metadata": {},
   "outputs": [],
   "source": [
    "for ang in [45.0, 90.0, 135.0, 180.0]:\n",
    "    for i in range(n):\n",
    "        rot_im = ndi.rotate(imgs8[i], ang, reshape=False, mode='reflect')\n",
    "        rot_gt = ndi.rotate(gndt8[i], ang, reshape=False, mode='reflect')\n",
    "        cv2.imwrite(dir_imgs + 'rot' + str(np.int64(ang)) + '_' + str(i+1).zfill(3) + '.png', rot_im)\n",
    "        cv2.imwrite(dir_gt + 'rot' + str(np.int64(ang)) + '_' + str(i+1).zfill(3) + '.png', rot_gt)"
   ]
  },
  {
   "cell_type": "markdown",
   "id": "279f046d-75b2-4af5-9e7a-a785d7785127",
   "metadata": {},
   "source": [
    "### 8. Gaussian blur"
   ]
  },
  {
   "cell_type": "markdown",
   "id": "9eef3474-df90-47be-837e-d7a0fc2c0789",
   "metadata": {},
   "source": [
    "note : blurred images should not change the detected road, so the ground truths won't be blurred."
   ]
  },
  {
   "cell_type": "code",
   "execution_count": 38,
   "id": "6de1d174-0dbb-4521-b4a7-55947758e29f",
   "metadata": {},
   "outputs": [],
   "source": [
    "for i in range(n):\n",
    "    blur_img = cv2.GaussianBlur(imgs8[i], ksize = (3,3), sigmaX = 0, borderType = cv2.BORDER_REFLECT)\n",
    "    cv2.imwrite(dir_imgs + 'blur_' + str(i+1).zfill(3) + '.png', blur_img)\n",
    "    cv2.imwrite(dir_gt + 'blur_' + str(i+1).zfill(3) + '.png', gndt8[i])"
   ]
  },
  {
   "cell_type": "markdown",
   "id": "c259c189-a092-4f82-872c-fd2b716dea39",
   "metadata": {},
   "source": [
    "### 9, 10. Brightness change"
   ]
  },
  {
   "cell_type": "markdown",
   "id": "29734cd1-4171-43f2-b7cb-b3ed07afadf5",
   "metadata": {},
   "source": [
    "note : lighter or darker images should not change the detected road, so the ground truths won't be modified."
   ]
  },
  {
   "cell_type": "code",
   "execution_count": 21,
   "id": "c9efb593-c7f3-49d5-a25e-f7c9debc9480",
   "metadata": {},
   "outputs": [],
   "source": [
    "for i in range(n):\n",
    "    light = cv2.convertScaleAbs(imgs8[i], beta=40) \n",
    "    dark = cv2.convertScaleAbs(imgs8[i], beta=-40) \n",
    "    cv2.imwrite(dir_imgs + 'light_' + str(i+1).zfill(3) + '.png', light)\n",
    "    cv2.imwrite(dir_gt + 'light_' + str(i+1).zfill(3) + '.png', gndt8[i])\n",
    "    cv2.imwrite(dir_imgs + 'dark_' + str(i+1).zfill(3) + '.png', dark)\n",
    "    cv2.imwrite(dir_gt + 'dark_' + str(i+1).zfill(3) + '.png', gndt8[i])"
   ]
  },
  {
   "cell_type": "code",
   "execution_count": null,
   "id": "aa02886c-46e1-4048-8ba2-3045679ef9a7",
   "metadata": {},
   "outputs": [],
   "source": []
  }
 ],
 "metadata": {
  "kernelspec": {
   "display_name": "Python 3 (ipykernel)",
   "language": "python",
   "name": "python3"
  },
  "language_info": {
   "codemirror_mode": {
    "name": "ipython",
    "version": 3
   },
   "file_extension": ".py",
   "mimetype": "text/x-python",
   "name": "python",
   "nbconvert_exporter": "python",
   "pygments_lexer": "ipython3",
   "version": "3.10.8"
  }
 },
 "nbformat": 4,
 "nbformat_minor": 5
}
