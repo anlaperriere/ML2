{
 "cells": [
  {
   "cell_type": "markdown",
   "id": "d2869062-2dbb-48aa-a1f2-b9aeee3e883f",
   "metadata": {
    "tags": []
   },
   "source": [
    "# CS 433 - Machine Learning: Project #2 personnal notebook\n",
    "\n",
    "**by:** Tanguy DESJARDIN\n",
    "\n",
    "**due date:** nov. 22nd 2022\n",
    "\n",
    "**email:** tanguy.desjardin@epfl.ch"
   ]
  },
  {
   "cell_type": "markdown",
   "id": "e423f54a-0c1d-45f6-9c59-c07aa4362082",
   "metadata": {},
   "source": [
    "# 0 - References"
   ]
  },
  {
   "cell_type": "markdown",
   "id": "6a53a3c7-28ea-48e9-bd7f-d13e54038051",
   "metadata": {},
   "source": [
    "[1] _CS-433: Machine Learning_,  Martin JAGGI & Nicolas FLAMMARION, 2022.\n",
    "\n",
    "[[2]](https://www.aicrowd.com/challenges/epfl-ml-road-segmentation) _Road segmentation project_, Martin JAGGI & Nicolas FLAMMARION, 2022.\n"
   ]
  },
  {
   "cell_type": "markdown",
   "id": "2b003e43-66af-4b0a-9fc6-196add69421c",
   "metadata": {},
   "source": [
    "# 1 - Library importation"
   ]
  },
  {
   "cell_type": "code",
   "execution_count": 1,
   "id": "65c21e92-e05b-4d65-8725-3cce62a82d2d",
   "metadata": {},
   "outputs": [],
   "source": [
    "import numpy as np\n",
    "\n",
    "from cross_validations import *\n",
    "from implementations import *\n",
    "from computations import compute_sigmoid, compute_loss_logistic\n",
    "from tracking_implementations import *\n",
    "from helpers import * "
   ]
  }
 ],
 "metadata": {
  "kernelspec": {
   "display_name": "Python 3 (ipykernel)",
   "language": "python",
   "name": "python3"
  },
  "language_info": {
   "codemirror_mode": {
    "name": "ipython",
    "version": 3
   },
   "file_extension": ".py",
   "mimetype": "text/x-python",
   "name": "python",
   "nbconvert_exporter": "python",
   "pygments_lexer": "ipython3",
   "version": "3.10.8"
  }
 },
 "nbformat": 4,
 "nbformat_minor": 5
}
